{
 "cells": [
  {
   "cell_type": "code",
   "execution_count": 1,
   "id": "c1b63f59",
   "metadata": {},
   "outputs": [],
   "source": [
    "def next_file(time):\n",
    "    \n",
    "    # 將字串轉成整數時間\n",
    "    hour, minute = map(int, time.split('_'))\n",
    "\n",
    "    minute += 10\n",
    "    if minute >= 60:\n",
    "        minute = 0\n",
    "        hour += 1\n",
    "    if hour >= 24:\n",
    "        hour = 0\n",
    "    new_time = f\"{hour:02d}_{minute:02d}\"\n",
    "    return new_time\n"
   ]
  },
  {
   "cell_type": "code",
   "execution_count": 2,
   "id": "7b5034eb",
   "metadata": {},
   "outputs": [],
   "source": [
    "import pandas as pd\n",
    "import os\n",
    "import json\n",
    "from collections import defaultdict\n",
    "import datetime\n",
    "from datetime import date\n",
    "import csv\n",
    "from pathlib import Path\n",
    "\n",
    "import matplotlib.pyplot as plt\n",
    "import matplotlib.font_manager as fm\n",
    "import gc\n",
    "import time\n",
    "# 設定中文字型（這裡以 Noto Sans CJK 為例）\n",
    "plt.rcParams['font.family'] = 'Microsoft JhengHei' "
   ]
  },
  {
   "cell_type": "code",
   "execution_count": 3,
   "id": "6d600235",
   "metadata": {},
   "outputs": [],
   "source": [
    "current_path = os.getcwd()\n",
    "folder_path = os.path.dirname(current_path)"
   ]
  },
  {
   "cell_type": "code",
   "execution_count": 4,
   "id": "346d97af",
   "metadata": {},
   "outputs": [],
   "source": [
    "plant_name = '台中港'"
   ]
  },
  {
   "cell_type": "markdown",
   "id": "32567ecb",
   "metadata": {},
   "source": [
    "一小時"
   ]
  },
  {
   "cell_type": "code",
   "execution_count": 5,
   "id": "82298867",
   "metadata": {},
   "outputs": [],
   "source": [
    "d = date(2025,1,1)\n",
    "\n",
    "power = []\n",
    "with open(f\"{plant_name}202501.csv\", mode=\"w\", newline='', encoding=\"utf-8\") as output:\n",
    "    writer = csv.writer(output)\n",
    "    writer.writerow(['date','time','MW'])\n",
    "for day in range(31):\n",
    "    file = '00_00'\n",
    "    for i in range(24):\n",
    "        hour_power=0\n",
    "        rd, rf = d, file\n",
    "        miss = 6\n",
    "        for j in range(6):\n",
    "            path = Path(f\"{folder_path}/history/{d}/{file}.log\")\n",
    "            if path.exists():\n",
    "                with open(path, \"r\", encoding=\"utf-8\") as f:\n",
    "                    try:\n",
    "                        log_data = json.load(f)\n",
    "                        plants = defaultdict(list)\n",
    "                        for unit in log_data[\"info\"]:\n",
    "                            if plant_name in unit[\"name\"]:\n",
    "                                hour_power += float(unit['used'])\n",
    "                        file = next_file(file)\n",
    "                        # 處理 data\n",
    "                    except json.JSONDecodeError:\n",
    "                        #print(f\"⚠️ JSON 解析錯誤，跳過：{d,rf}\")\n",
    "                        file = next_file(file)\n",
    "                        continue\n",
    "                    del log_data\n",
    "            # missing value \n",
    "            else:\n",
    "                miss -= 1\n",
    "                file = next_file(file)\n",
    "        if miss == 0:\n",
    "            #print('miss',d,rf)\n",
    "            power.append([rd, rf, -1])\n",
    "        else:\n",
    "            power.append([rd, rf, round(hour_power,3)])\n",
    "        if len(power) >= 500:\n",
    "            with open(f\"{plant_name}202501.csv\", mode=\"a\", newline='', encoding=\"utf-8\") as output:\n",
    "                writer = csv.writer(output)\n",
    "                for write in power:  \n",
    "                    writer.writerow(write)\n",
    "            power.clear()\n",
    "            gc.collect()\n",
    "    d = d + datetime.timedelta(days=1)\n",
    "with open(f\"{plant_name}202501.csv\", mode=\"a\", newline='', encoding=\"utf-8\") as output:\n",
    "    writer = csv.writer(output)\n",
    "    for write in power:  \n",
    "        writer.writerow(write)\n",
    "    "
   ]
  },
  {
   "cell_type": "code",
   "execution_count": 6,
   "id": "7fb904c6",
   "metadata": {},
   "outputs": [],
   "source": [
    "# 讀取 CSV\n",
    "df = pd.read_csv(f\"{plant_name}202501.csv\")\n",
    "\n",
    "# 將日期欄轉成 datetime（推薦）\n",
    "df['datetime'] = pd.to_datetime(df['date'] + ' ' + df['time'].str.replace('_', ':'))\n",
    "df =df.head(72)\n",
    "\n",
    "\n",
    "\n"
   ]
  }
 ],
 "metadata": {
  "kernelspec": {
   "display_name": "Python 3",
   "language": "python",
   "name": "python3"
  },
  "language_info": {
   "codemirror_mode": {
    "name": "ipython",
    "version": 3
   },
   "file_extension": ".py",
   "mimetype": "text/x-python",
   "name": "python",
   "nbconvert_exporter": "python",
   "pygments_lexer": "ipython3",
   "version": "3.11.9"
  }
 },
 "nbformat": 4,
 "nbformat_minor": 5
}
